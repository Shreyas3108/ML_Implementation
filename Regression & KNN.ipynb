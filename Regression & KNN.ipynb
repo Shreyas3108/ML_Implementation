{
 "cells": [
  {
   "cell_type": "markdown",
   "id": "0a0b69fd-112e-4647-9a72-1c33b6a4bb68",
   "metadata": {},
   "source": [
    "## Implement Linear regression from scratch "
   ]
  },
  {
   "cell_type": "code",
   "execution_count": 1,
   "id": "fbd4f9ef-7197-4659-8a0e-386b1f7144f9",
   "metadata": {},
   "outputs": [],
   "source": [
    "import numpy as np\n",
    "\n",
    "# Step 1: Get the data set\n",
    "x = np.array([1, 2, 3, 4, 5])\n",
    "y = np.array([2, 4, 5, 4, 5])\n",
    "\n",
    "# Step 2: Compute the mean of the X and y\n",
    "mean_x = np.mean(x)\n",
    "mean_y = np.mean(y)"
   ]
  },
  {
   "cell_type": "code",
   "execution_count": 5,
   "id": "ab2d47fb-804a-43f1-a72e-9956f4d5e5e5",
   "metadata": {},
   "outputs": [],
   "source": [
    "m = np.sum((x-mean_x)*(y - mean_y))/np.sum((x-mean_x)**2) "
   ]
  },
  {
   "cell_type": "code",
   "execution_count": 10,
   "id": "07ce1c5d-0d63-45c8-8c32-fb02d3b43a11",
   "metadata": {},
   "outputs": [],
   "source": [
    "c = mean_y * m - mean_x"
   ]
  },
  {
   "cell_type": "code",
   "execution_count": 11,
   "id": "702fd649-aae5-4978-9f9f-2a560ff8bc6b",
   "metadata": {},
   "outputs": [
    {
     "data": {
      "text/plain": [
       "-0.6000000000000001"
      ]
     },
     "execution_count": 11,
     "metadata": {},
     "output_type": "execute_result"
    }
   ],
   "source": [
    "c"
   ]
  },
  {
   "cell_type": "code",
   "execution_count": 12,
   "id": "a59a40b4-0b4d-4e33-992d-b9c12028d031",
   "metadata": {},
   "outputs": [],
   "source": [
    "import numpy as np\n",
    "\n",
    "# Coefficients for a pretend real estate market model\n",
    "coefficients = np.array([50000, 3000, -2000, 15000])  # Assume b0, b1 for area, b2 for age, b3 for # bathrooms\n",
    "\n",
    "# Data for a new house: [intercept, area, age, # bathrooms]\n",
    "new_house = np.array([1, 150, 10, 2])"
   ]
  },
  {
   "cell_type": "code",
   "execution_count": 13,
   "id": "73005cfe-6650-42ca-8881-ecdec054744c",
   "metadata": {},
   "outputs": [
    {
     "data": {
      "text/plain": [
       "510000"
      ]
     },
     "execution_count": 13,
     "metadata": {},
     "output_type": "execute_result"
    }
   ],
   "source": [
    "coefficients.T @ new_house"
   ]
  },
  {
   "cell_type": "code",
   "execution_count": 14,
   "id": "23cf566c-4c1d-4a0a-b652-2033465a685c",
   "metadata": {},
   "outputs": [
    {
     "name": "stdout",
     "output_type": "stream",
     "text": [
      "Coefficients: [-91666.66666654    146.60493827  57037.03703703]\n",
      "Predicted prices: [343333.3333334  488333.33333339 230000.00000008 633333.33333337]\n",
      "R^2: 0.997113020727609\n"
     ]
    }
   ],
   "source": [
    "import numpy as np\n",
    "\n",
    "# given data\n",
    "housing_data = np.array([[1800, 3], [2400, 4], [1416, 2], [3000, 5]])\n",
    "prices = np.array([350000, 475000, 230000, 640000])\n",
    "\n",
    "# adding 1s to our matrix\n",
    "ones = np.ones(shape=(len(housing_data), 1))\n",
    "X = np.append(ones, housing_data, axis=1)\n",
    "\n",
    "# calculating coefficients\n",
    "coefficients = np.linalg.inv(X.T @ X) @ X.T @ prices\n",
    "\n",
    "# predicting prices\n",
    "predicted_prices = X @ coefficients\n",
    "\n",
    "# calculating residuals\n",
    "residuals = prices - predicted_prices\n",
    "\n",
    "# calculating total sum of squares\n",
    "sst = np.sum((prices - np.mean(prices)) ** 2)\n",
    "\n",
    "# calculating residual sum of squares\n",
    "ssr = np.sum(residuals ** 2)\n",
    "\n",
    "# calculating R^2\n",
    "r2 = 1 - (ssr/sst)\n",
    "\n",
    "print(\"Coefficients:\", coefficients)\n",
    "print(\"Predicted prices:\", predicted_prices)\n",
    "print(\"R^2:\", r2)"
   ]
  },
  {
   "cell_type": "code",
   "execution_count": 15,
   "id": "f0936e6d-5384-4726-8b5e-36af7c8c99f9",
   "metadata": {},
   "outputs": [],
   "source": [
    "## Implementing Linear regression "
   ]
  },
  {
   "cell_type": "code",
   "execution_count": 16,
   "id": "f83e19f0-ea6d-450f-9cc0-d881988a2b4a",
   "metadata": {},
   "outputs": [],
   "source": [
    "housing_data = np.array([[1800, 3], [2400, 4], [1416, 2], [3000, 5]])\n",
    "prices = np.array([350000, 475000, 230000, 640000])"
   ]
  },
  {
   "cell_type": "code",
   "execution_count": 22,
   "id": "5201a3a0-56a4-410b-b42e-79bbf8d5cdc8",
   "metadata": {},
   "outputs": [],
   "source": [
    "ones = np.ones(shape = (len(housing_data) , 1) )"
   ]
  },
  {
   "cell_type": "code",
   "execution_count": 26,
   "id": "cdbbe77a-d91b-40b0-82f2-5d4333e0398e",
   "metadata": {},
   "outputs": [],
   "source": [
    "X = np.append(ones , housing_data , axis = 1) "
   ]
  },
  {
   "cell_type": "code",
   "execution_count": 27,
   "id": "e39c9dbd-6bd8-49a4-a476-7f5d5631cd4e",
   "metadata": {},
   "outputs": [
    {
     "data": {
      "text/plain": [
       "array([[1.000e+00, 1.800e+03, 3.000e+00],\n",
       "       [1.000e+00, 2.400e+03, 4.000e+00],\n",
       "       [1.000e+00, 1.416e+03, 2.000e+00],\n",
       "       [1.000e+00, 3.000e+03, 5.000e+00]])"
      ]
     },
     "execution_count": 27,
     "metadata": {},
     "output_type": "execute_result"
    }
   ],
   "source": [
    "X"
   ]
  },
  {
   "cell_type": "code",
   "execution_count": 28,
   "id": "da788fcd-8773-4dc4-8bd8-ccfb65f3439f",
   "metadata": {},
   "outputs": [],
   "source": [
    "coefficients = np.linalg.inv(X.T @ X) @ X.T @ prices"
   ]
  },
  {
   "cell_type": "code",
   "execution_count": 30,
   "id": "4eb7e5b4-62dd-4be5-b9b0-d381ae556b63",
   "metadata": {},
   "outputs": [
    {
     "data": {
      "text/plain": [
       "array([-91666.66666654,    146.60493827,  57037.03703703])"
      ]
     },
     "execution_count": 30,
     "metadata": {},
     "output_type": "execute_result"
    }
   ],
   "source": [
    "coefficients"
   ]
  },
  {
   "cell_type": "code",
   "execution_count": 32,
   "id": "72d22a18-1862-40f0-bc44-f3a1cd41f890",
   "metadata": {},
   "outputs": [
    {
     "data": {
      "text/plain": [
       "array([343333.3333334 , 488333.33333339, 230000.00000008, 633333.33333337])"
      ]
     },
     "execution_count": 32,
     "metadata": {},
     "output_type": "execute_result"
    }
   ],
   "source": [
    "coefficients @ X.T"
   ]
  },
  {
   "cell_type": "code",
   "execution_count": 34,
   "id": "69be520f-1a7e-4ae1-a8d1-d6cc010cac69",
   "metadata": {},
   "outputs": [],
   "source": [
    "def gradient_descent(X, y, theta, alpha, iterations):\n",
    "    m = len(y)\n",
    "    cost_history = np.zeros(iterations)\n",
    "    theta_history = np.zeros((iterations,2))\n",
    "    for i in range(iterations): # Iterate until convergence\n",
    "        prediction = np.dot(X,theta)  # Matrix multiplication between X and theta\n",
    "        theta = theta - (1/m)*alpha*(X.T.dot((prediction - y))) # Gradient update rule\n",
    "        theta_history[i,:] = theta.T\n",
    "        cost_history[i] = cost(X,y,theta)\n",
    "    return theta, cost_history, theta_history"
   ]
  },
  {
   "cell_type": "code",
   "execution_count": 35,
   "id": "b100bebd-f699-43d8-8e11-a022f676266b",
   "metadata": {},
   "outputs": [
    {
     "name": "stdout",
     "output_type": "stream",
     "text": [
      "Updated parameters: [100233.33333333 330100.        ]\n"
     ]
    }
   ],
   "source": [
    "import numpy as np\n",
    "\n",
    "# Assume prices are linearly related to the size of the house\n",
    "house_size = np.array([[1200], [1500], [1000]]) # Square feet\n",
    "prices = np.array([240000, 300000, 200000]) # Price in dollars\n",
    "theta = np.array([100000, 100]) # Initial guess for parameters [b, a]\n",
    "\n",
    "# Perform one iteration of gradient descent to update the parameters\n",
    "learning_rate = 0.01\n",
    "m = len(prices)\n",
    "X_b = np.c_[np.ones((3, 1)), house_size] # Adding bias term\n",
    "# TODO: Update the theta parameters using the gradient descent rule \n",
    "pred = np.dot(X_b , theta)\n",
    "theta = theta - 1/m*learning_rate*(X_b.T.dot(pred - prices))\n",
    "print(f\"Updated parameters: {theta}\")"
   ]
  },
  {
   "cell_type": "code",
   "execution_count": 36,
   "id": "1cc7bccc-2f47-4fe9-9010-a4d2907952c9",
   "metadata": {},
   "outputs": [
    {
     "name": "stdout",
     "output_type": "stream",
     "text": [
      "Iteration 0: Cost = 217062.97242926765\n",
      "Iteration 10: Cost = 177537.3110453745\n",
      "Iteration 20: Cost = 145208.99838636926\n",
      "Iteration 30: Cost = 118767.44718175652\n",
      "Iteration 40: Cost = 97140.71901067138\n",
      "Iteration 50: Cost = 79452.06800201135\n",
      "Iteration 60: Cost = 64984.39762529205\n",
      "Iteration 70: Cost = 53151.189653303394\n",
      "Iteration 80: Cost = 43472.72675898299\n",
      "Iteration 90: Cost = 35556.64481244101\n",
      "Iteration 100: Cost = 29082.026469776116\n",
      "Iteration 110: Cost = 23786.391209016223\n",
      "Iteration 120: Cost = 19455.05439025615\n",
      "Iteration 130: Cost = 15912.423957121946\n",
      "Iteration 140: Cost = 13014.881948518421\n",
      "Iteration 150: Cost = 10644.962237702188\n",
      "Iteration 160: Cost = 8706.588464677154\n",
      "Iteration 170: Cost = 7121.1791080634775\n",
      "Iteration 180: Cost = 5824.4617963575765\n",
      "Iteration 190: Cost = 4763.867711010902\n",
      "Iteration 200: Cost = 3896.4004506312544\n",
      "Iteration 210: Cost = 3186.8929602282888\n",
      "Iteration 220: Cost = 2606.5818615504895\n",
      "Iteration 230: Cost = 2131.9413879772555\n",
      "Iteration 240: Cost = 1743.7296517772643\n",
      "Iteration 250: Cost = 1426.208579482627\n",
      "Iteration 260: Cost = 1166.5058916195362\n",
      "Iteration 270: Cost = 954.0932615036602\n",
      "Iteration 280: Cost = 780.3594976986075\n",
      "Iteration 290: Cost = 638.2614469875836\n",
      "Iteration 300: Cost = 522.0384654919902\n",
      "Iteration 310: Cost = 426.9788826185095\n",
      "Iteration 320: Cost = 349.22899030119044\n",
      "Iteration 330: Cost = 285.636813977419\n",
      "Iteration 340: Cost = 233.62433178529992\n",
      "Iteration 350: Cost = 191.08296175871342\n",
      "Iteration 360: Cost = 156.28808007907864\n",
      "Iteration 370: Cost = 127.82910496042987\n",
      "Iteration 380: Cost = 104.552311773981\n",
      "Iteration 390: Cost = 85.51406114176798\n",
      "Iteration 400: Cost = 69.94254386996529\n",
      "Iteration 410: Cost = 57.206491864442725\n",
      "Iteration 420: Cost = 46.7895865715269\n",
      "Iteration 430: Cost = 38.26952746415812\n",
      "Iteration 440: Cost = 31.30091201150288\n",
      "Iteration 450: Cost = 25.60123308732816\n",
      "Iteration 460: Cost = 20.939426153169634\n",
      "Iteration 470: Cost = 17.126501919982477\n",
      "Iteration 480: Cost = 14.007884737126343\n",
      "Iteration 490: Cost = 11.457146107557708\n"
     ]
    }
   ],
   "source": [
    "import numpy as np\n",
    "\n",
    "# Sample house sizes in square feet, standardized\n",
    "house_sizes = np.array([[1000], [1500], [2000]])\n",
    "house_sizes = (house_sizes - np.mean(house_sizes)) / np.std(house_sizes)\n",
    "# Sample house prices in 1000s of dollars\n",
    "house_prices = np.array([[300], [450], [600]])\n",
    "# We initialize our parameters: slope (a) and intercept (b)\n",
    "theta_real_estate = np.random.rand(2, 1)\n",
    "# Learning rate and iterations for gradient descent, adjusted learning rate\n",
    "alpha_real_estate = 0.01\n",
    "iterations = 500\n",
    "# Add a column of ones to the house sizes to accommodate the intercept (b)\n",
    "X_b_real_estate = np.c_[np.ones((len(house_sizes), 1)), house_sizes]\n",
    "\n",
    "def gradient_descent(X, y, theta, alpha, iterations):\n",
    "    m = len(y)\n",
    "    cost_history = np.zeros(iterations)\n",
    "    for i in range(iterations):  # Iterate until convergence\n",
    "        prediction = np.dot(X, theta)  # Matrix multiplication between X and theta\n",
    "        # TODO: Adjust the parameters 'theta' using the gradient descent update rule\n",
    "        pred = np.dot(X ,theta)\n",
    "        theta = theta - 1/m * alpha * X.T.dot(pred - y) \n",
    "        cost_history[i] = 1/m * np.sum(np.square(pred - y))\n",
    "        # TODO: Calculate the mean square error cost and record it into cost_history\n",
    "    return theta, cost_history\n",
    "\n",
    "# TODO: Use the gradient_descent function to update 'theta_real_estate' and 'cost_history'\n",
    "theta_real_estate , cost_history = gradient_descent(X_b_real_estate , house_prices , theta_real_estate , alpha_real_estate , iterations )\n",
    "for i, cost in enumerate(cost_history[::10]):\n",
    "    print(f'Iteration {i * 10}: Cost = {cost}')"
   ]
  },
  {
   "cell_type": "code",
   "execution_count": 38,
   "id": "3d291bd4-52ea-439d-8b4d-a89ac12f0a2e",
   "metadata": {},
   "outputs": [
    {
     "name": "stderr",
     "output_type": "stream",
     "text": [
      "\n",
      "KeyboardInterrupt\n",
      "\n"
     ]
    }
   ],
   "source": [
    "import numpy as np\n",
    "\n",
    "# Sample house sizes in square feet, standardized\n",
    "house_sizes = np.array([[1000], [1500], [2000]])\n",
    "house_sizes = (house_sizes - np.mean(house_sizes)) / np.std(house_sizes)\n",
    "# Sample house prices in 1000s of dollars\n",
    "house_prices = np.array([[300], [450], [600]])\n",
    "# We initialize our parameters: slope (a) and intercept (b)\n",
    "theta_real_estate = np.random.rand(2, 1)\n",
    "# Learning rate and iterations for gradient descent, adjusted learning rate\n",
    "alpha_real_estate = 0.01\n",
    "iterations = 500\n",
    "# Add a column of ones to the house sizes to accommodate the intercept (b)\n",
    "X_b_real_estate = np.c_[np.ones((len(house_sizes), 1)), house_sizes]\n",
    "\n",
    "def gradient_descent(X, y, theta, alpha, iterations):\n",
    "    m = len(y)\n",
    "    cost_history = []\n",
    "    previous_cost = 0 \n",
    "    current_cost = np.inf\n",
    "    i = 0 \n",
    "    while previous_cost - current_cost < 100:  # Iterate until convergence\n",
    "        prediction = np.dot(X, theta)  # Matrix multiplication between X and theta\n",
    "        # Gradient update rule with correct cost function calculation\n",
    "        i +=1 \n",
    "        theta = theta - (1/m) * alpha * (X.T.dot(prediction - y))\n",
    "        current_cost = (1/(2*m)) * np.sum(np.square(prediction - y)) \n",
    "        cost_history.append(current_cost)\n",
    "        previous_cost = current_cost \n",
    "        \n",
    "    return theta, cost_history\n",
    "\n",
    "# Run gradient descent\n",
    "theta_real_estate, cost_history = gradient_descent(X_b_real_estate, house_prices, theta_real_estate, alpha_real_estate, iterations)\n",
    "for i, cost in enumerate(cost_history[::10]):\n",
    "    print(f'Iteration {i * 10}: Cost = {cost}')"
   ]
  },
  {
   "cell_type": "code",
   "execution_count": 39,
   "id": "ca82f375-9bd8-44aa-92aa-ed496d65bd81",
   "metadata": {},
   "outputs": [
    {
     "name": "stdout",
     "output_type": "stream",
     "text": [
      "Loss after 0 iterations: 0.6560020538325616\t\n",
      "Loss after 10000 iterations: 0.015463551362280403\t\n",
      "Loss after 20000 iterations: 0.01214508429170544\t\n",
      "Accuracy: 0.995\n"
     ]
    }
   ],
   "source": [
    "import numpy as np\n",
    "import matplotlib.pyplot as plt\n",
    "\n",
    "def sigmoid(z):\n",
    "    return 1 / (1 + np.exp(-z))\n",
    "\n",
    "def cost_function(h, y):\n",
    "    return (-y * np.log(h) - (1 - y) * np.log(1 - h)).mean()\n",
    "\n",
    "def logistic_regression(X, y, num_iterations, learning_rate):\n",
    "    # Add intercept to X\n",
    "    intercept = np.ones((X.shape[0], 1))\n",
    "    X = np.concatenate((intercept, X), axis=1)\n",
    "\n",
    "    # Weights initialization\n",
    "    theta = np.zeros(X.shape[1])\n",
    "\n",
    "    for i in range(num_iterations):\n",
    "        z = np.dot(X, theta)\n",
    "        h = sigmoid(z)\n",
    "        gradient = np.dot(X.T, (h - y)) / y.size\n",
    "        theta -= learning_rate * gradient\n",
    "\n",
    "        z = np.dot(X, theta)\n",
    "        h = sigmoid(z)\n",
    "        loss = cost_function(h, y)\n",
    "\n",
    "        if i % 10000 == 0:\n",
    "            print(f'Loss after {i} iterations: {loss}\\t')\n",
    "\n",
    "    return theta\n",
    "\n",
    "def predict_prob(X, theta):\n",
    "    # Add intercept to X\n",
    "    intercept = np.ones((X.shape[0], 1))\n",
    "    X = np.concatenate((intercept, X), axis=1)\n",
    "    return sigmoid(np.dot(X, theta))\n",
    "\n",
    "def predict(X, theta, threshold=0.5):\n",
    "    return predict_prob(X, theta) >= threshold\n",
    "\n",
    "np.random.seed(0)\n",
    "num_observations = 1000\n",
    "x1 = np.random.multivariate_normal([0, 0], [[1, .75],[.75, 1]], num_observations)\n",
    "x2 = np.random.multivariate_normal([1, 4], [[1, .75],[.75, 1]], num_observations)\n",
    "X = np.vstack((x1, x2)).astype(np.float32)\n",
    "y = np.hstack((np.zeros(num_observations), np.ones(num_observations)))\n",
    "\n",
    "# Split into train and test\n",
    "train_ratio = 0.7\n",
    "idx = int(X.shape[0] * train_ratio)\n",
    "X_train, X_test = X[:idx, :], X[idx:, :]\n",
    "y_train, y_test = y[:idx], y[idx:]\n",
    "\n",
    "# Training\n",
    "theta = logistic_regression(X_train, y_train, num_iterations = 30000, learning_rate = 0.1)\n",
    "\n",
    "# Prediction and Accuracy calculation\n",
    "y_pred = predict(X_test, theta)\n",
    "accuracy = (y_pred == y_test).mean()\n",
    "print('Accuracy:', accuracy)"
   ]
  },
  {
   "cell_type": "code",
   "execution_count": 40,
   "id": "2720cf05-f436-4e80-b441-238ca240a2e2",
   "metadata": {},
   "outputs": [
    {
     "name": "stdout",
     "output_type": "stream",
     "text": [
      "The AUC-ROC value is: 0.83\n"
     ]
    }
   ],
   "source": [
    "## AUCROC \n",
    "# Manually computing AUC-ROC using trapezoidal rule integration\n",
    "truth_labels = [1, 0, 1, 0, 1]\n",
    "predicted_probs = [0.9, 0.6, 0.8, 0.2, 0.5]\n",
    "\n",
    "def compute_aucroc(truth, predicted):\n",
    "    tprs, fprs = [], []\n",
    "    thresholds = [1, 0.8, 0.6, 0.4, 0.2, 0]\n",
    "    for threshold in thresholds:\n",
    "        tp = fp = tn = fn = 0\n",
    "        for t, p in zip(truth, predicted):\n",
    "            if p >= threshold:\n",
    "                if t == 1:\n",
    "                    tp += 1\n",
    "                else:\n",
    "                    fp += 1\n",
    "            else:\n",
    "                if t == 1:\n",
    "                    fn += 1\n",
    "                else:\n",
    "                    tn += 1\n",
    "        tprs.append(tp / (tp + fn) if (tp + fn) > 0 else 0)\n",
    "        fprs.append(fp / (tn + fp) if (tn + fp) > 0 else 1)\n",
    "    aucroc = sum(0.5 * (fprs[i] - fprs[i - 1]) * (tprs[i] + tprs[i - 1]) for i in range(1, len(fprs)))\n",
    "    return aucroc\n",
    "\n",
    "# Calculate and print the AUC-ROC value\n",
    "aucroc_value = compute_aucroc(truth_labels, predicted_probs)\n",
    "print(f\"The AUC-ROC value is: {aucroc_value:.2f}\")"
   ]
  },
  {
   "cell_type": "code",
   "execution_count": 41,
   "id": "6588dd42-5cbf-4d84-b61c-03d27a2a3956",
   "metadata": {},
   "outputs": [
    {
     "name": "stdout",
     "output_type": "stream",
     "text": [
      "Orange\n"
     ]
    },
    {
     "data": {
      "image/png": "[encoded data removed]",
      "text/plain": [
       "<Figure size 640x480 with 1 Axes>"
      ]
     },
     "metadata": {},
     "output_type": "display_data"
    }
   ],
   "source": [
    "import math\n",
    "import numpy as np\n",
    "import matplotlib.pyplot as plt\n",
    "\n",
    "\n",
    "def euclidean_distance(point1, point2):\n",
    "    return math.sqrt(sum((p - q) ** 2 for p, q in zip(point1, point2)))\n",
    "\n",
    "\n",
    "def k_nearest_neighbors(data, query, k, distance_fn):\n",
    "    neighbor_distances_and_indices = []\n",
    "\n",
    "    for index, (point, label) in enumerate(data):\n",
    "        distance = distance_fn(point, query)\n",
    "        neighbor_distances_and_indices.append((distance, index))\n",
    "\n",
    "    k_nearest_distances_and_indices = sorted(neighbor_distances_and_indices)[:k]\n",
    "\n",
    "    k_nearest_labels = [data[i][1] for distance, i in k_nearest_distances_and_indices]\n",
    "\n",
    "    from collections import Counter\n",
    "    most_common_label = Counter(k_nearest_labels).most_common(1)[0][0]\n",
    "\n",
    "    return most_common_label\n",
    "\n",
    "\n",
    "fruits_data = [\n",
    "    ((1.2, 0.4), 'Apple'),\n",
    "    ((1.0, 0.5), 'Apple'),\n",
    "    ((1.6, 0.7), 'Orange'),\n",
    "    ((1.3, 0.3), 'Apple'),\n",
    "    ((1.8, 0.8), 'Orange')\n",
    "]\n",
    "\n",
    "fruit_query = (1.4, 0.6)\n",
    "\n",
    "predicted_type = k_nearest_neighbors(fruits_data, fruit_query, k=2, distance_fn=euclidean_distance)\n",
    "print(predicted_type)\n",
    "\n",
    "# Extract fruit features and labels\n",
    "fruit_features = np.array([item[0] for item in fruits_data])\n",
    "fruit_labels = np.array([item[1] for item in fruits_data])\n",
    "\n",
    "\n",
    "# Create a scatter plot of apples and oranges\n",
    "for fruit_type in ['Apple', 'Orange']:\n",
    "    plt.scatter(\n",
    "        fruit_features[fruit_labels==fruit_type, 0],\n",
    "        fruit_features[fruit_labels==fruit_type, 1],\n",
    "        label=fruit_type\n",
    "    )\n",
    "\n",
    "# Add the query point\n",
    "plt.scatter(*fruit_query, color='red', label='query', marker='x')\n",
    "plt.legend()\n",
    "plt.title('Fruits Classification with kNN')\n",
    "plt.xlabel('Feature 1')\n",
    "plt.ylabel('Feature 2')\n",
    "plt.show()"
   ]
  },
  {
   "cell_type": "code",
   "execution_count": 43,
   "id": "5f07468a-9355-4936-bf4e-a2d392c06002",
   "metadata": {},
   "outputs": [
    {
     "name": "stdout",
     "output_type": "stream",
     "text": [
      "ripe\n"
     ]
    },
    {
     "data": {
      "image/png": "[encoded data removed]",
      "text/plain": [
       "<Figure size 640x480 with 1 Axes>"
      ]
     },
     "metadata": {},
     "output_type": "display_data"
    }
   ],
   "source": [
    "import math\n",
    "import matplotlib.pyplot as plt\n",
    "import numpy as np\n",
    "\n",
    "\n",
    "def k_nearest_neighbors(data, query, k, distance_fn):\n",
    "    neighbor_distances_and_indices = []\n",
    "    for idx, label in enumerate(data):\n",
    "        distance = distance_fn(label[0], query)\n",
    "        neighbor_distances_and_indices.append((distance, idx))\n",
    "    sorted_neighbor_distances_and_indices = sorted(neighbor_distances_and_indices)\n",
    "    k_nearest_distances_and_indices = sorted_neighbor_distances_and_indices[:k]\n",
    "    k_nearest_labels = [data[i][1] for distance, i in k_nearest_distances_and_indices]\n",
    "    return max(k_nearest_labels, key=k_nearest_labels.count)\n",
    "\n",
    "def manhattan_distance(point1 , point2): \n",
    "    return sum(abs(p - q) for p,q in zip(point1 , point2))\n",
    "\n",
    "def euclidean_distance(point1, point2):\n",
    "    return math.sqrt(sum((p - q) ** 2 for p, q in zip(point1, point2)))\n",
    "\n",
    "\n",
    "data = [\n",
    "    ((2, 3), 'unripe'),\n",
    "    ((5, 4), 'ripe'),\n",
    "    ((9, 6), 'unripe'),\n",
    "    ((4, 7), 'ripe'),\n",
    "    ((8, 1), 'overripe'),\n",
    "    ((7, 2), 'ripe'),\n",
    "]\n",
    "\n",
    "ripeness_label = k_nearest_neighbors(data, (7, 3), k=3, distance_fn=manhattan_distance)\n",
    "print(ripeness_label)\n",
    "\n",
    "features = np.array([item[0] for item in data])\n",
    "labels = np.array([item[1] for item in data])\n",
    "\n",
    "for ripeness in ['unripe', 'ripe', 'overripe']:\n",
    "    plt.scatter(features[labels == ripeness, 0], features[labels == ripeness, 1], label=ripeness)\n",
    "\n",
    "plt.scatter(7, 3, color='red', label='query', marker='x')\n",
    "plt.legend()\n",
    "plt.title('Fruits Classification with kNN')\n",
    "plt.xlabel('Feature 1')\n",
    "plt.ylabel('Feature 2')\n",
    "plt.show()"
   ]
  },
  {
   "cell_type": "code",
   "execution_count": 44,
   "id": "97961888-d410-4cef-ade8-ba400f4c6d20",
   "metadata": {},
   "outputs": [
    {
     "name": "stdout",
     "output_type": "stream",
     "text": [
      "Dwarf Star\n"
     ]
    }
   ],
   "source": [
    "from collections import Counter\n",
    "\n",
    "# Define the k_nearest_neighbors function as described in the lesson\n",
    "def k_nearest_neighbors(data, query, k, distance_fn):\n",
    "    neighbor_distances_and_indices = []\n",
    "    \n",
    "    # Compute distance from each training data point, using example[0] to get the feature data\n",
    "    for idx, label in enumerate(data):\n",
    "        distance = distance_fn(label[0], query)  \n",
    "        neighbor_distances_and_indices.append((distance, idx))\n",
    "    \n",
    "    # Sort the list by distance and select the first k entries\n",
    "    sorted_neighbors = sorted(neighbor_distances_and_indices)\n",
    "    k_nearest_distances_and_indices = sorted_neighbors[:k]\n",
    "    \n",
    "    # TODO: Assign labels to k_nearest_labels based on the k_nearest_distances_and_indices\n",
    "    k_nearest_labels = [data[i][1] for distance , i in k_nearest_distances_and_indices]  # Replace with the correct code\n",
    "    \n",
    "    # TODO: Use the Counter class for a majority vote to determine the predicted label\n",
    "    most_common = max(k_nearest_labels , key = k_nearest_labels.count)  # Replace this line with the correct code\n",
    "\n",
    "    return most_common\n",
    "\n",
    "# Define the euclidean_distance function as needed\n",
    "def euclidean_distance(point1, point2):\n",
    "    return sum((p - q) ** 2 for p, q in zip(point1, point2)) ** 0.5\n",
    "\n",
    "# A cosmic dataset of objects with features 'size' and 'brightness'\n",
    "cosmic_objects = [\n",
    "    ((1, 5), 'Dwarf Star'),  # Size 1, Brightness 5\n",
    "    ((3, 8), 'Giant Star'),  # Size 3, Brightness 8\n",
    "    ((2, 6), 'Dwarf Star'),  # Size 2, Brightness 6\n",
    "]\n",
    "\n",
    "# New object to classify\n",
    "new_object = (2, 7)\n",
    "\n",
    "# Using the defined functions to classify the new object\n",
    "predicted_class = k_nearest_neighbors(cosmic_objects, new_object, k=2, distance_fn=euclidean_distance)\n",
    "print(predicted_class)  # Predicted class is expected to be 'Dwarf Star'"
   ]
  },
  {
   "cell_type": "code",
   "execution_count": null,
   "id": "7bd4f3ce-cc1e-41cf-9d39-b462d212149e",
   "metadata": {},
   "outputs": [],
   "source": []
  }
 ],
 "metadata": {
  "kernelspec": {
   "display_name": "Python 3 (ipykernel)",
   "language": "python",
   "name": "python3"
  },
  "language_info": {
   "codemirror_mode": {
    "name": "ipython",
    "version": 3
   },
   "file_extension": ".py",
   "mimetype": "text/x-python",
   "name": "python",
   "nbconvert_exporter": "python",
   "pygments_lexer": "ipython3",
   "version": "3.12.4"
  }
 },
 "nbformat": 4,
 "nbformat_minor": 5
}
