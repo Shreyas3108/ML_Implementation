{
 "cells": [
  {
   "cell_type": "code",
   "execution_count": 1,
   "id": "739e49ac-8c6a-4405-9fab-825e05615443",
   "metadata": {},
   "outputs": [
    {
     "data": {
      "image/png": "[encoded data removed]",
      "text/plain": [
       "<Figure size 640x480 with 1 Axes>"
      ]
     },
     "metadata": {},
     "output_type": "display_data"
    }
   ],
   "source": [
    "import random\n",
    "import matplotlib.pyplot as plt\n",
    "\n",
    "# Define a function to calculate Euclidean distance\n",
    "def distance(point1, point2):\n",
    "    return ((point1[0] - point2[0])**2 + (point1[1] - point2[1])**2)**0.5\n",
    "\n",
    "# Define the k-Means algorithm\n",
    "def k_means(data, centers, k):\n",
    "    while True:\n",
    "        clusters = [[] for _ in range(k)]\n",
    "\n",
    "        # Assign data points to the closest center\n",
    "        for point in data:\n",
    "            distances = [distance(point, center) for center in centers]\n",
    "            index = distances.index(min(distances))\n",
    "            clusters[index].append(point)\n",
    "\n",
    "        # Update centers to be the mean of points in a cluster\n",
    "        new_centers = []\n",
    "        for cluster in clusters:\n",
    "            center = (sum([point[0] for point in cluster])/len(cluster),\n",
    "                      sum([point[1] for point in cluster])/len(cluster))\n",
    "            new_centers.append(center)\n",
    "\n",
    "        # Break loop if centers don't change significantly\n",
    "        if max([distance(new, old) for new, old in zip(new_centers, centers)]) < 0.0001:\n",
    "            break\n",
    "        else:\n",
    "            centers = new_centers\n",
    "    return clusters, centers\n",
    "\n",
    "# Example dataset with 2D points\n",
    "data = [(1, 2), (2, 1), (3, 4), (5, 7), (3.5, 5), (4, 4), (6, 5)]\n",
    "k = 2  # Change this line to have 3 clusters\n",
    "centers = random.sample(data, k)  # Initialize centers\n",
    "\n",
    "# Run k-Means algorithm\n",
    "clusters, centers = k_means(data, centers, k)\n",
    "\n",
    "# Plotting clusters and their centers using matplotlib\n",
    "colors = ['r', 'g', 'b', 'y', 'c', 'm']\n",
    "fig, ax = plt.subplots()\n",
    "\n",
    "# Plot the data points and assign a color based on the cluster they belong to\n",
    "for i, cluster in enumerate(clusters):\n",
    "    for point in cluster:\n",
    "        ax.scatter(*point, color=colors[i])\n",
    "\n",
    "# Plot the centers as black x marks\n",
    "for center in centers:\n",
    "    ax.scatter(*center, color='black', marker='x', s=100)\n",
    "\n",
    "# Show the plot with title\n",
    "ax.set_title('Clusters and their centers')\n",
    "plt.show()"
   ]
  },
  {
   "cell_type": "code",
   "execution_count": null,
   "id": "9fa20a48-99cd-4228-a8c6-67f805e2249f",
   "metadata": {},
   "outputs": [],
   "source": []
  }
 ],
 "metadata": {
  "kernelspec": {
   "display_name": "Python 3 (ipykernel)",
   "language": "python",
   "name": "python3"
  },
  "language_info": {
   "codemirror_mode": {
    "name": "ipython",
    "version": 3
   },
   "file_extension": ".py",
   "mimetype": "text/x-python",
   "name": "python",
   "nbconvert_exporter": "python",
   "pygments_lexer": "ipython3",
   "version": "3.12.4"
  }
 },
 "nbformat": 4,
 "nbformat_minor": 5
}
